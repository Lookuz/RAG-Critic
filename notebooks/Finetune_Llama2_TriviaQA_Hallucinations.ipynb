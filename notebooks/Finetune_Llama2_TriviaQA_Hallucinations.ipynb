{
 "cells": [
  {
   "cell_type": "code",
   "execution_count": 1,
   "id": "adc5e866-494f-4284-ac3d-ebbc02177f55",
   "metadata": {},
   "outputs": [],
   "source": [
    "from transformers import TrainingArguments\n",
    "from trl import SFTTrainer\n",
    "from peft import LoraConfig, prepare_model_for_kbit_training, get_peft_model\n",
    "from triviaqa_datasets.datasets import ContextualizedQADatasetForCriticFinetuning\n",
    "from utils.utils import convert_to_hf_dataset, plot_training_curve\n",
    "from datasets import *\n",
    "import os\n",
    "import json"
   ]
  },
  {
   "cell_type": "code",
   "execution_count": 2,
   "id": "e40dc085-1bb4-4682-ab6d-d2a2609eb31a",
   "metadata": {},
   "outputs": [],
   "source": [
    "dataset=\"triviaqa\"\n",
    "model_path=\"/home/users/nus/e1101650/scratch/llama2-chat-hf-cache/models--meta-llama--Llama-2-7b-chat-hf/snapshots/09bd0f49e16738cdfaa6e615203e126038736eb0\"\n",
    "data_path=\"triviaqa_datasets/TriviaQA/rc/qa/bootstrap/web_train_evaluation_generation.json\"\n",
    "save_data_path=\"triviaqa_datasets\"\n",
    "save_model_path=\"finetuned_models\"\n",
    "batch_size = 16"
   ]
  },
  {
   "cell_type": "code",
   "execution_count": 3,
   "id": "6de408dd-81bb-428c-a5b2-d1099c1bab61",
   "metadata": {},
   "outputs": [
    {
     "data": {
      "application/vnd.jupyter.widget-view+json": {
       "model_id": "cff8356a89024868901a5e2f7709501e",
       "version_major": 2,
       "version_minor": 0
      },
      "text/plain": [
       "Loading checkpoint shards:   0%|          | 0/2 [00:00<?, ?it/s]"
      ]
     },
     "metadata": {},
     "output_type": "display_data"
    }
   ],
   "source": [
    "from transformers import AutoTokenizer, AutoConfig, AutoModelForCausalLM, BitsAndBytesConfig\n",
    "import torch\n",
    "\n",
    "tokenizer = AutoTokenizer.from_pretrained(model_path)\n",
    "\n",
    "bnb_config = BitsAndBytesConfig(\n",
    "    load_in_4bit=True,\n",
    "    bnb_4bit_quant_type=\"nf4\",\n",
    "    bnb_4bit_compute_dtype=torch.bfloat16,\n",
    "    bnb_4bit_use_double_quant=False,\n",
    ")\n",
    "\n",
    "model = AutoModelForCausalLM.from_pretrained(\n",
    "    model_path,\n",
    "    quantization_config=bnb_config,\n",
    "    # device_map=args.device,\n",
    "    device_map=\"auto\",\n",
    "    local_files_only = True\n",
    ")\n"
   ]
  },
  {
   "cell_type": "code",
   "execution_count": 4,
   "id": "c4de19cd-62a8-4e03-860f-f7bbffb7a913",
   "metadata": {},
   "outputs": [],
   "source": [
    "def finetune_with_triviaqa(model, tokenizer, dataset, data_path, output_data_dir, output_model_dir):\n",
    "    '''\n",
    "    Load Q,D,R,E dataset from web_train_evaluation_generation.json\n",
    "    '''\n",
    "    print(\"Loading dataset...\\n\")\n",
    "    hf_dataset_path = os.path.join(output_data_dir, \"triviaqa_datasets_hf\")\n",
    "\n",
    "    if not os.path.exists(hf_dataset_path):\n",
    "        triviaQA = ContextualizedQADatasetForCriticFinetuning.from_dataset(dataset=dataset, data_path=data_path)\n",
    "\n",
    "        print(\"Convert to huggingface dataset...\\n\")\n",
    "        triviaQA_hf = convert_to_hf_dataset(triviaQA)\n",
    "\n",
    "        # Train-val split\n",
    "        triviaQA_hf.save_to_disk(os.path.join(output_data_dir, \"triviaqa_datasets_hf\"))\n",
    "\n",
    "        # Train val 90-10\n",
    "        triviaQA_hf_split = triviaQA_hf.train_test_split(test_size=0.1, shuffle=False)    \n",
    "        triviaQA_hf_split[\"train\"].save_to_disk(os.path.join(output_data_dir, \"triviaqa_datasets_hf_train\"))\n",
    "        triviaQA_hf_split[\"test\"].save_to_disk(os.path.join(output_data_dir, \"triviaqa_datasets_hf_val\"))\n",
    "\n",
    "    dset_train = load_from_disk(os.path.join(output_data_dir, \"triviaqa_datasets_hf_train\"))\n",
    "    dset_val = load_from_disk(os.path.join(output_data_dir, \"triviaqa_datasets_hf_val\"))\n",
    "    \n",
    "    print(\"Loaded dataset successfully!\\n\")\n"
   ]
  },
  {
   "cell_type": "code",
   "execution_count": 5,
   "id": "a0879e63-10ab-4a3e-8eb8-bca02d8b099b",
   "metadata": {},
   "outputs": [
    {
     "name": "stdout",
     "output_type": "stream",
     "text": [
      "Loading dataset...\n",
      "\n",
      "Loaded dataset successfully!\n",
      "\n"
     ]
    }
   ],
   "source": [
    "finetune_with_triviaqa(model, tokenizer, dataset, data_path, save_data_path, save_model_path)"
   ]
  },
  {
   "cell_type": "code",
   "execution_count": 6,
   "id": "7514f1a2-895d-4863-b3e8-89da54d757d7",
   "metadata": {},
   "outputs": [],
   "source": [
    "from datasets import load_from_disk\n",
    "import os\n",
    "import torch\n",
    "import transformers\n",
    "from  langchain import LLMChain, HuggingFacePipeline, PromptTemplate\n",
    "from transformers import AutoTokenizer, AutoConfig, AutoModelForCausalLM, BitsAndBytesConfig\n",
    "import os\n",
    "from torch.utils.data import Dataset\n",
    "\n",
    "dset_train = load_from_disk(os.path.join(save_data_path , \"triviaqa_datasets_hf_train\"))\n",
    "dset_val = load_from_disk(os.path.join(save_data_path , \"triviaqa_datasets_hf_val\"))"
   ]
  },
  {
   "cell_type": "markdown",
   "id": "c5d0c359-546e-4452-87cd-a7f1c4bb2273",
   "metadata": {},
   "source": [
    "# Train"
   ]
  },
  {
   "cell_type": "code",
   "execution_count": 12,
   "id": "33a798da-bc9c-4ecb-b2f8-ca3b3ed8edf3",
   "metadata": {},
   "outputs": [
    {
     "data": {
      "text/plain": [
       "25005"
      ]
     },
     "execution_count": 12,
     "metadata": {},
     "output_type": "execute_result"
    }
   ],
   "source": [
    "len(dset_train)"
   ]
  },
  {
   "cell_type": "code",
   "execution_count": 13,
   "id": "38e560f2-2461-4eb3-b731-66591a797ca1",
   "metadata": {},
   "outputs": [],
   "source": [
    "# Setting config.pretraining_tp to a value different than 1 will activate the more accurate but slower computation of the linear layers, which should better match the original logits.\n",
    "model.config.pretraining_tp = 1\n",
    "tokenizer.pad_token = tokenizer.eos_token"
   ]
  },
  {
   "cell_type": "code",
   "execution_count": 14,
   "id": "f2dadd51-cd86-4254-96ef-7984e9a78ef2",
   "metadata": {},
   "outputs": [],
   "source": [
    "def format_prompt(sample):\n",
    "    return f\"\"\"\n",
    "{sample[\"qrd\"]}\n",
    "{sample[\"e\"]}\n",
    "\"\"\""
   ]
  },
  {
   "cell_type": "code",
   "execution_count": 15,
   "id": "f33135c8-5395-4654-9521-db0603cccf25",
   "metadata": {},
   "outputs": [],
   "source": [
    "from peft import LoraConfig, prepare_model_for_kbit_training, get_peft_model\n",
    "\n",
    "# LoRA config based on QLoRA paper\n",
    "# These parameters are double of parameters used in Radiology-Llama2\n",
    "# Alpha is twice the rank value usually\n",
    "peft_config = LoraConfig(\n",
    "    lora_alpha=32,\n",
    "    lora_dropout=0.1,\n",
    "    r=16,\n",
    "    bias=\"none\",\n",
    "    task_type=\"CAUSAL_LM\",\n",
    ")\n",
    "# Prepare model for training\n",
    "model = prepare_model_for_kbit_training(model)\n",
    "model = get_peft_model(model, peft_config)"
   ]
  },
  {
   "cell_type": "code",
   "execution_count": 16,
   "id": "7900006c-8b76-47d1-9909-26b8b7a006ef",
   "metadata": {},
   "outputs": [
    {
     "data": {
      "text/plain": [
       "16"
      ]
     },
     "execution_count": 16,
     "metadata": {},
     "output_type": "execute_result"
    }
   ],
   "source": [
    "batch_size"
   ]
  },
  {
   "cell_type": "code",
   "execution_count": 17,
   "id": "8834fa15-49d6-4dc0-8cf3-33b9190acff7",
   "metadata": {},
   "outputs": [],
   "source": [
    "from transformers import TrainingArguments\n",
    "\n",
    "\n",
    "args = TrainingArguments(\n",
    "    output_dir=save_model_path,\n",
    "    num_train_epochs=1,\n",
    "    per_device_train_batch_size=batch_size,\n",
    "    gradient_accumulation_steps=2,\n",
    "    gradient_checkpointing=True,\n",
    "    optim=\"paged_adamw_32bit\",\n",
    "    logging_steps=10,\n",
    "    save_strategy=\"steps\",\n",
    "    save_steps=50,\n",
    "    evaluation_strategy=\"steps\", # Evaluate the model every logging step\n",
    "    eval_steps=50,               # Evaluate and save checkpoints every 50 steps \n",
    "    learning_rate=2e-4,\n",
    "    fp16=True,\n",
    "    max_grad_norm=0.3,\n",
    "    warmup_ratio=0.03,\n",
    "    lr_scheduler_type=\"constant\",\n",
    "    disable_tqdm=False\n",
    ")"
   ]
  },
  {
   "cell_type": "code",
   "execution_count": 18,
   "id": "7aa86b4c-8d37-4e1d-971f-37bca07039cd",
   "metadata": {},
   "outputs": [],
   "source": [
    "# PEFT parameters\n",
    "lora_alpha=32\n",
    "lora_dropout=0.1\n",
    "r=16\n",
    "bias=\"none\"\n",
    "task_type=\"CAUSAL_LM\"\n",
    "\n",
    "# SFTT parameters\n",
    "num_train_epochs=1\n",
    "gradient_accumulation_steps=2\n",
    "optim=\"paged_adamw_32bit\"\n",
    "logging_steps=10\n",
    "save_strategy=\"steps\"\n",
    "evaluation_strategy=\"steps\"\n",
    "eval_steps=10\n",
    "do_eval=True\n",
    "learning_rate=2e-4\n",
    "max_grad_norm=0.3\n",
    "warmup_ratio=0.03\n",
    "lr_scheduler_type=\"constant\"\n"
   ]
  },
  {
   "cell_type": "markdown",
   "id": "de035df8-fc8e-4055-bca6-996209a1ae2a",
   "metadata": {},
   "source": [
    "# Train"
   ]
  },
  {
   "cell_type": "code",
   "execution_count": 19,
   "id": "a8690748-b0b0-46a5-80de-e66072cff129",
   "metadata": {},
   "outputs": [
    {
     "data": {
      "application/vnd.jupyter.widget-view+json": {
       "model_id": "758d83a48e104b649f5eb2d5faf7a504",
       "version_major": 2,
       "version_minor": 0
      },
      "text/plain": [
       "Generating train split: 0 examples [00:00, ? examples/s]"
      ]
     },
     "metadata": {},
     "output_type": "display_data"
    },
    {
     "data": {
      "application/vnd.jupyter.widget-view+json": {
       "model_id": "e615b6ecc38c43c69074bfdb45af6d19",
       "version_major": 2,
       "version_minor": 0
      },
      "text/plain": [
       "Generating train split: 0 examples [00:00, ? examples/s]"
      ]
     },
     "metadata": {},
     "output_type": "display_data"
    },
    {
     "name": "stderr",
     "output_type": "stream",
     "text": [
      "/home/users/nus/e1101650/.conda/envs/rag-critic2/lib/python3.12/site-packages/accelerate/accelerator.py:432: FutureWarning: Passing the following arguments to `Accelerator` is deprecated and will be removed in version 1.0 of Accelerate: dict_keys(['dispatch_batches', 'split_batches']). Please pass an `accelerate.DataLoaderConfiguration` instead: \n",
      "dataloader_config = DataLoaderConfiguration(dispatch_batches=None, split_batches=False)\n",
      "  warnings.warn(\n",
      "Detected kernel version 4.18.0, which is below the recommended minimum of 5.5.0; this can cause the process to hang. It is recommended to upgrade the kernel to the minimum version or higher.\n"
     ]
    }
   ],
   "source": [
    "from trl import SFTTrainer\n",
    "\n",
    "max_seq_length = 1024 # max sequence length for model and packing of the dataset\n",
    "\n",
    "trainer = SFTTrainer(\n",
    "    model=model,\n",
    "    train_dataset=dset_train,\n",
    "    eval_dataset=dset_val,\n",
    "    peft_config=peft_config,\n",
    "    tokenizer=tokenizer,\n",
    "    packing=True,\n",
    "    max_seq_length  = max_seq_length,\n",
    "    formatting_func=format_prompt,\n",
    "    args=args,\n",
    ")"
   ]
  },
  {
   "cell_type": "code",
   "execution_count": null,
   "id": "483279ab-87a0-4749-8a63-2aa9609ec98f",
   "metadata": {
    "scrolled": true
   },
   "outputs": [
    {
     "name": "stderr",
     "output_type": "stream",
     "text": [
      "`use_cache=True` is incompatible with gradient checkpointing. Setting `use_cache=False`...\n",
      "/home/users/nus/e1101650/.conda/envs/rag-critic2/lib/python3.12/site-packages/torch/utils/checkpoint.py:460: UserWarning: torch.utils.checkpoint: please pass in use_reentrant=True or use_reentrant=False explicitly. The default value of use_reentrant will be updated to be False in the future. To maintain current behavior, pass use_reentrant=True. It is recommended that you use use_reentrant=False. Refer to docs for more details on the differences between the two variants.\n",
      "  warnings.warn(\n"
     ]
    },
    {
     "data": {
      "text/html": [
       "\n",
       "    <div>\n",
       "      \n",
       "      <progress value='481' max='728' style='width:300px; height:20px; vertical-align: middle;'></progress>\n",
       "      [481/728 2:13:37 < 1:08:54, 0.06 it/s, Epoch 0.66/1]\n",
       "    </div>\n",
       "    <table border=\"1\" class=\"dataframe\">\n",
       "  <thead>\n",
       " <tr style=\"text-align: left;\">\n",
       "      <th>Step</th>\n",
       "      <th>Training Loss</th>\n",
       "      <th>Validation Loss</th>\n",
       "    </tr>\n",
       "  </thead>\n",
       "  <tbody>\n",
       "    <tr>\n",
       "      <td>50</td>\n",
       "      <td>1.435800</td>\n",
       "      <td>1.392341</td>\n",
       "    </tr>\n",
       "    <tr>\n",
       "      <td>100</td>\n",
       "      <td>1.361700</td>\n",
       "      <td>1.350433</td>\n",
       "    </tr>\n",
       "    <tr>\n",
       "      <td>150</td>\n",
       "      <td>1.351100</td>\n",
       "      <td>1.339415</td>\n",
       "    </tr>\n",
       "    <tr>\n",
       "      <td>200</td>\n",
       "      <td>1.328800</td>\n",
       "      <td>1.333122</td>\n",
       "    </tr>\n",
       "    <tr>\n",
       "      <td>250</td>\n",
       "      <td>1.353500</td>\n",
       "      <td>1.328134</td>\n",
       "    </tr>\n",
       "    <tr>\n",
       "      <td>300</td>\n",
       "      <td>1.344300</td>\n",
       "      <td>1.324156</td>\n",
       "    </tr>\n",
       "    <tr>\n",
       "      <td>350</td>\n",
       "      <td>1.299100</td>\n",
       "      <td>1.321285</td>\n",
       "    </tr>\n",
       "    <tr>\n",
       "      <td>400</td>\n",
       "      <td>1.353400</td>\n",
       "      <td>1.318686</td>\n",
       "    </tr>\n",
       "    <tr>\n",
       "      <td>450</td>\n",
       "      <td>1.304900</td>\n",
       "      <td>1.315897</td>\n",
       "    </tr>\n",
       "  </tbody>\n",
       "</table><p>"
      ],
      "text/plain": [
       "<IPython.core.display.HTML object>"
      ]
     },
     "metadata": {},
     "output_type": "display_data"
    },
    {
     "name": "stderr",
     "output_type": "stream",
     "text": [
      "/home/users/nus/e1101650/.conda/envs/rag-critic2/lib/python3.12/site-packages/peft/utils/save_and_load.py:154: UserWarning: Could not find a config file in /home/users/nus/e1101650/scratch/llama2-chat-hf-cache/models--meta-llama--Llama-2-7b-chat-hf/snapshots/09bd0f49e16738cdfaa6e615203e126038736eb0 - will assume that the vocabulary was not modified.\n",
      "  warnings.warn(\n",
      "/home/users/nus/e1101650/.conda/envs/rag-critic2/lib/python3.12/site-packages/torch/utils/checkpoint.py:460: UserWarning: torch.utils.checkpoint: please pass in use_reentrant=True or use_reentrant=False explicitly. The default value of use_reentrant will be updated to be False in the future. To maintain current behavior, pass use_reentrant=True. It is recommended that you use use_reentrant=False. Refer to docs for more details on the differences between the two variants.\n",
      "  warnings.warn(\n",
      "/home/users/nus/e1101650/.conda/envs/rag-critic2/lib/python3.12/site-packages/peft/utils/save_and_load.py:154: UserWarning: Could not find a config file in /home/users/nus/e1101650/scratch/llama2-chat-hf-cache/models--meta-llama--Llama-2-7b-chat-hf/snapshots/09bd0f49e16738cdfaa6e615203e126038736eb0 - will assume that the vocabulary was not modified.\n",
      "  warnings.warn(\n",
      "/home/users/nus/e1101650/.conda/envs/rag-critic2/lib/python3.12/site-packages/torch/utils/checkpoint.py:460: UserWarning: torch.utils.checkpoint: please pass in use_reentrant=True or use_reentrant=False explicitly. The default value of use_reentrant will be updated to be False in the future. To maintain current behavior, pass use_reentrant=True. It is recommended that you use use_reentrant=False. Refer to docs for more details on the differences between the two variants.\n",
      "  warnings.warn(\n",
      "/home/users/nus/e1101650/.conda/envs/rag-critic2/lib/python3.12/site-packages/peft/utils/save_and_load.py:154: UserWarning: Could not find a config file in /home/users/nus/e1101650/scratch/llama2-chat-hf-cache/models--meta-llama--Llama-2-7b-chat-hf/snapshots/09bd0f49e16738cdfaa6e615203e126038736eb0 - will assume that the vocabulary was not modified.\n",
      "  warnings.warn(\n",
      "/home/users/nus/e1101650/.conda/envs/rag-critic2/lib/python3.12/site-packages/torch/utils/checkpoint.py:460: UserWarning: torch.utils.checkpoint: please pass in use_reentrant=True or use_reentrant=False explicitly. The default value of use_reentrant will be updated to be False in the future. To maintain current behavior, pass use_reentrant=True. It is recommended that you use use_reentrant=False. Refer to docs for more details on the differences between the two variants.\n",
      "  warnings.warn(\n",
      "/home/users/nus/e1101650/.conda/envs/rag-critic2/lib/python3.12/site-packages/peft/utils/save_and_load.py:154: UserWarning: Could not find a config file in /home/users/nus/e1101650/scratch/llama2-chat-hf-cache/models--meta-llama--Llama-2-7b-chat-hf/snapshots/09bd0f49e16738cdfaa6e615203e126038736eb0 - will assume that the vocabulary was not modified.\n",
      "  warnings.warn(\n",
      "/home/users/nus/e1101650/.conda/envs/rag-critic2/lib/python3.12/site-packages/torch/utils/checkpoint.py:460: UserWarning: torch.utils.checkpoint: please pass in use_reentrant=True or use_reentrant=False explicitly. The default value of use_reentrant will be updated to be False in the future. To maintain current behavior, pass use_reentrant=True. It is recommended that you use use_reentrant=False. Refer to docs for more details on the differences between the two variants.\n",
      "  warnings.warn(\n",
      "/home/users/nus/e1101650/.conda/envs/rag-critic2/lib/python3.12/site-packages/peft/utils/save_and_load.py:154: UserWarning: Could not find a config file in /home/users/nus/e1101650/scratch/llama2-chat-hf-cache/models--meta-llama--Llama-2-7b-chat-hf/snapshots/09bd0f49e16738cdfaa6e615203e126038736eb0 - will assume that the vocabulary was not modified.\n",
      "  warnings.warn(\n",
      "/home/users/nus/e1101650/.conda/envs/rag-critic2/lib/python3.12/site-packages/torch/utils/checkpoint.py:460: UserWarning: torch.utils.checkpoint: please pass in use_reentrant=True or use_reentrant=False explicitly. The default value of use_reentrant will be updated to be False in the future. To maintain current behavior, pass use_reentrant=True. It is recommended that you use use_reentrant=False. Refer to docs for more details on the differences between the two variants.\n",
      "  warnings.warn(\n",
      "/home/users/nus/e1101650/.conda/envs/rag-critic2/lib/python3.12/site-packages/peft/utils/save_and_load.py:154: UserWarning: Could not find a config file in /home/users/nus/e1101650/scratch/llama2-chat-hf-cache/models--meta-llama--Llama-2-7b-chat-hf/snapshots/09bd0f49e16738cdfaa6e615203e126038736eb0 - will assume that the vocabulary was not modified.\n",
      "  warnings.warn(\n",
      "/home/users/nus/e1101650/.conda/envs/rag-critic2/lib/python3.12/site-packages/torch/utils/checkpoint.py:460: UserWarning: torch.utils.checkpoint: please pass in use_reentrant=True or use_reentrant=False explicitly. The default value of use_reentrant will be updated to be False in the future. To maintain current behavior, pass use_reentrant=True. It is recommended that you use use_reentrant=False. Refer to docs for more details on the differences between the two variants.\n",
      "  warnings.warn(\n",
      "/home/users/nus/e1101650/.conda/envs/rag-critic2/lib/python3.12/site-packages/peft/utils/save_and_load.py:154: UserWarning: Could not find a config file in /home/users/nus/e1101650/scratch/llama2-chat-hf-cache/models--meta-llama--Llama-2-7b-chat-hf/snapshots/09bd0f49e16738cdfaa6e615203e126038736eb0 - will assume that the vocabulary was not modified.\n",
      "  warnings.warn(\n",
      "/home/users/nus/e1101650/.conda/envs/rag-critic2/lib/python3.12/site-packages/torch/utils/checkpoint.py:460: UserWarning: torch.utils.checkpoint: please pass in use_reentrant=True or use_reentrant=False explicitly. The default value of use_reentrant will be updated to be False in the future. To maintain current behavior, pass use_reentrant=True. It is recommended that you use use_reentrant=False. Refer to docs for more details on the differences between the two variants.\n",
      "  warnings.warn(\n",
      "/home/users/nus/e1101650/.conda/envs/rag-critic2/lib/python3.12/site-packages/peft/utils/save_and_load.py:154: UserWarning: Could not find a config file in /home/users/nus/e1101650/scratch/llama2-chat-hf-cache/models--meta-llama--Llama-2-7b-chat-hf/snapshots/09bd0f49e16738cdfaa6e615203e126038736eb0 - will assume that the vocabulary was not modified.\n",
      "  warnings.warn(\n",
      "/home/users/nus/e1101650/.conda/envs/rag-critic2/lib/python3.12/site-packages/torch/utils/checkpoint.py:460: UserWarning: torch.utils.checkpoint: please pass in use_reentrant=True or use_reentrant=False explicitly. The default value of use_reentrant will be updated to be False in the future. To maintain current behavior, pass use_reentrant=True. It is recommended that you use use_reentrant=False. Refer to docs for more details on the differences between the two variants.\n",
      "  warnings.warn(\n",
      "/home/users/nus/e1101650/.conda/envs/rag-critic2/lib/python3.12/site-packages/peft/utils/save_and_load.py:154: UserWarning: Could not find a config file in /home/users/nus/e1101650/scratch/llama2-chat-hf-cache/models--meta-llama--Llama-2-7b-chat-hf/snapshots/09bd0f49e16738cdfaa6e615203e126038736eb0 - will assume that the vocabulary was not modified.\n",
      "  warnings.warn(\n",
      "/home/users/nus/e1101650/.conda/envs/rag-critic2/lib/python3.12/site-packages/torch/utils/checkpoint.py:460: UserWarning: torch.utils.checkpoint: please pass in use_reentrant=True or use_reentrant=False explicitly. The default value of use_reentrant will be updated to be False in the future. To maintain current behavior, pass use_reentrant=True. It is recommended that you use use_reentrant=False. Refer to docs for more details on the differences between the two variants.\n",
      "  warnings.warn(\n"
     ]
    }
   ],
   "source": [
    "# Train\n",
    "trainer.train()"
   ]
  },
  {
   "cell_type": "code",
   "execution_count": 20,
   "id": "bf309609-20d6-4c0c-aa7e-4e39851ca004",
   "metadata": {},
   "outputs": [
    {
     "name": "stderr",
     "output_type": "stream",
     "text": [
      "`use_cache=True` is incompatible with gradient checkpointing. Setting `use_cache=False`...\n",
      "/home/users/nus/e1101650/.conda/envs/rag-critic2/lib/python3.12/site-packages/torch/utils/checkpoint.py:460: UserWarning: torch.utils.checkpoint: please pass in use_reentrant=True or use_reentrant=False explicitly. The default value of use_reentrant will be updated to be False in the future. To maintain current behavior, pass use_reentrant=True. It is recommended that you use use_reentrant=False. Refer to docs for more details on the differences between the two variants.\n",
      "  warnings.warn(\n"
     ]
    },
    {
     "data": {
      "text/html": [
       "\n",
       "    <div>\n",
       "      \n",
       "      <progress value='728' max='728' style='width:300px; height:20px; vertical-align: middle;'></progress>\n",
       "      [728/728 1:15:14, Epoch 0/1]\n",
       "    </div>\n",
       "    <table border=\"1\" class=\"dataframe\">\n",
       "  <thead>\n",
       " <tr style=\"text-align: left;\">\n",
       "      <th>Step</th>\n",
       "      <th>Training Loss</th>\n",
       "      <th>Validation Loss</th>\n",
       "    </tr>\n",
       "  </thead>\n",
       "  <tbody>\n",
       "    <tr>\n",
       "      <td>500</td>\n",
       "      <td>1.318000</td>\n",
       "      <td>1.313264</td>\n",
       "    </tr>\n",
       "    <tr>\n",
       "      <td>550</td>\n",
       "      <td>1.322700</td>\n",
       "      <td>1.311806</td>\n",
       "    </tr>\n",
       "    <tr>\n",
       "      <td>600</td>\n",
       "      <td>1.290400</td>\n",
       "      <td>1.309776</td>\n",
       "    </tr>\n",
       "    <tr>\n",
       "      <td>650</td>\n",
       "      <td>1.314600</td>\n",
       "      <td>1.308110</td>\n",
       "    </tr>\n",
       "    <tr>\n",
       "      <td>700</td>\n",
       "      <td>1.282300</td>\n",
       "      <td>1.305972</td>\n",
       "    </tr>\n",
       "  </tbody>\n",
       "</table><p>"
      ],
      "text/plain": [
       "<IPython.core.display.HTML object>"
      ]
     },
     "metadata": {},
     "output_type": "display_data"
    },
    {
     "name": "stderr",
     "output_type": "stream",
     "text": [
      "/home/users/nus/e1101650/.conda/envs/rag-critic2/lib/python3.12/site-packages/peft/utils/save_and_load.py:154: UserWarning: Could not find a config file in /home/users/nus/e1101650/scratch/llama2-chat-hf-cache/models--meta-llama--Llama-2-7b-chat-hf/snapshots/09bd0f49e16738cdfaa6e615203e126038736eb0 - will assume that the vocabulary was not modified.\n",
      "  warnings.warn(\n",
      "/home/users/nus/e1101650/.conda/envs/rag-critic2/lib/python3.12/site-packages/torch/utils/checkpoint.py:460: UserWarning: torch.utils.checkpoint: please pass in use_reentrant=True or use_reentrant=False explicitly. The default value of use_reentrant will be updated to be False in the future. To maintain current behavior, pass use_reentrant=True. It is recommended that you use use_reentrant=False. Refer to docs for more details on the differences between the two variants.\n",
      "  warnings.warn(\n",
      "/home/users/nus/e1101650/.conda/envs/rag-critic2/lib/python3.12/site-packages/peft/utils/save_and_load.py:154: UserWarning: Could not find a config file in /home/users/nus/e1101650/scratch/llama2-chat-hf-cache/models--meta-llama--Llama-2-7b-chat-hf/snapshots/09bd0f49e16738cdfaa6e615203e126038736eb0 - will assume that the vocabulary was not modified.\n",
      "  warnings.warn(\n",
      "/home/users/nus/e1101650/.conda/envs/rag-critic2/lib/python3.12/site-packages/torch/utils/checkpoint.py:460: UserWarning: torch.utils.checkpoint: please pass in use_reentrant=True or use_reentrant=False explicitly. The default value of use_reentrant will be updated to be False in the future. To maintain current behavior, pass use_reentrant=True. It is recommended that you use use_reentrant=False. Refer to docs for more details on the differences between the two variants.\n",
      "  warnings.warn(\n",
      "/home/users/nus/e1101650/.conda/envs/rag-critic2/lib/python3.12/site-packages/peft/utils/save_and_load.py:154: UserWarning: Could not find a config file in /home/users/nus/e1101650/scratch/llama2-chat-hf-cache/models--meta-llama--Llama-2-7b-chat-hf/snapshots/09bd0f49e16738cdfaa6e615203e126038736eb0 - will assume that the vocabulary was not modified.\n",
      "  warnings.warn(\n",
      "/home/users/nus/e1101650/.conda/envs/rag-critic2/lib/python3.12/site-packages/torch/utils/checkpoint.py:460: UserWarning: torch.utils.checkpoint: please pass in use_reentrant=True or use_reentrant=False explicitly. The default value of use_reentrant will be updated to be False in the future. To maintain current behavior, pass use_reentrant=True. It is recommended that you use use_reentrant=False. Refer to docs for more details on the differences between the two variants.\n",
      "  warnings.warn(\n",
      "/home/users/nus/e1101650/.conda/envs/rag-critic2/lib/python3.12/site-packages/peft/utils/save_and_load.py:154: UserWarning: Could not find a config file in /home/users/nus/e1101650/scratch/llama2-chat-hf-cache/models--meta-llama--Llama-2-7b-chat-hf/snapshots/09bd0f49e16738cdfaa6e615203e126038736eb0 - will assume that the vocabulary was not modified.\n",
      "  warnings.warn(\n",
      "/home/users/nus/e1101650/.conda/envs/rag-critic2/lib/python3.12/site-packages/torch/utils/checkpoint.py:460: UserWarning: torch.utils.checkpoint: please pass in use_reentrant=True or use_reentrant=False explicitly. The default value of use_reentrant will be updated to be False in the future. To maintain current behavior, pass use_reentrant=True. It is recommended that you use use_reentrant=False. Refer to docs for more details on the differences between the two variants.\n",
      "  warnings.warn(\n",
      "/home/users/nus/e1101650/.conda/envs/rag-critic2/lib/python3.12/site-packages/peft/utils/save_and_load.py:154: UserWarning: Could not find a config file in /home/users/nus/e1101650/scratch/llama2-chat-hf-cache/models--meta-llama--Llama-2-7b-chat-hf/snapshots/09bd0f49e16738cdfaa6e615203e126038736eb0 - will assume that the vocabulary was not modified.\n",
      "  warnings.warn(\n",
      "/home/users/nus/e1101650/.conda/envs/rag-critic2/lib/python3.12/site-packages/torch/utils/checkpoint.py:460: UserWarning: torch.utils.checkpoint: please pass in use_reentrant=True or use_reentrant=False explicitly. The default value of use_reentrant will be updated to be False in the future. To maintain current behavior, pass use_reentrant=True. It is recommended that you use use_reentrant=False. Refer to docs for more details on the differences between the two variants.\n",
      "  warnings.warn(\n"
     ]
    },
    {
     "data": {
      "text/plain": [
       "TrainOutput(global_step=728, training_loss=0.5016333297058776, metrics={'train_runtime': 4528.3159, 'train_samples_per_second': 5.146, 'train_steps_per_second': 0.161, 'total_flos': 9.469138814380278e+17, 'train_loss': 0.5016333297058776, 'epoch': 1.0})"
      ]
     },
     "execution_count": 20,
     "metadata": {},
     "output_type": "execute_result"
    }
   ],
   "source": [
    "# Train\n",
    "trainer.train(resume_from_checkpoint=True)"
   ]
  },
  {
   "cell_type": "markdown",
   "id": "7c500120-3080-41e5-a740-50ab89beca07",
   "metadata": {},
   "source": [
    "# Plot training loss"
   ]
  },
  {
   "cell_type": "code",
   "execution_count": 21,
   "id": "b93f556e-dcc6-43d1-ae93-87a520c05303",
   "metadata": {},
   "outputs": [],
   "source": [
    "import json\n",
    "with open(\"finetuned_models/checkpoint-700/trainer_state.json\",\"r\") as file:\n",
    "    training_logs = json.load(file)"
   ]
  },
  {
   "cell_type": "code",
   "execution_count": 35,
   "id": "b7730bee-1b6c-4814-8f1f-fb9d74d4f2e7",
   "metadata": {
    "scrolled": true
   },
   "outputs": [],
   "source": [
    "# len(training_logs[\"log_history\"]) #84 because 70 training and 14 for eval"
   ]
  },
  {
   "cell_type": "code",
   "execution_count": 48,
   "id": "63496235-f8fc-4c97-a46c-88a85601d504",
   "metadata": {},
   "outputs": [
    {
     "data": {
      "image/png": "[encoded data removed]",
      "text/plain": [
       "<Figure size 640x480 with 1 Axes>"
      ]
     },
     "metadata": {},
     "output_type": "display_data"
    }
   ],
   "source": [
    "# Extract training and validation loss\n",
    "import matplotlib.pyplot as plt\n",
    "\n",
    "data = training_logs[\"log_history\"]\n",
    "train_loss = [entry['loss'] for entry in data if 'loss' in entry]\n",
    "val_loss = [entry['eval_loss'] for entry in data if 'eval_loss' in entry]\n",
    "\n",
    "# Plotting\n",
    "epochs = range(10, len(train_loss)*10 + 10, 10)\n",
    "plt.plot(epochs, train_loss, 'bo', label='Training loss')\n",
    "val_epochs = range(50,len(train_loss)*10 + 10,50)\n",
    "plt.plot(val_epochs, val_loss, 'r', label='Validation loss')\n",
    "plt.title('Training and validation loss')\n",
    "plt.xlabel('Epochs')\n",
    "plt.ylabel('Loss')\n",
    "plt.legend()\n",
    "plt.show()"
   ]
  },
  {
   "cell_type": "markdown",
   "id": "997c2f7f-b498-4bad-8c51-7dbb19e4bd2b",
   "metadata": {},
   "source": [
    "# Load model"
   ]
  },
  {
   "cell_type": "code",
   "execution_count": 49,
   "id": "db8db914-b943-4f93-8be5-64f06a89c439",
   "metadata": {},
   "outputs": [],
   "source": [
    "from transformers import AutoTokenizer, AutoConfig, AutoModelForCausalLM, BitsAndBytesConfig\n",
    "import torch"
   ]
  },
  {
   "cell_type": "code",
   "execution_count": 52,
   "id": "41a8b828-b6f4-4663-ba04-d05cf6fd087c",
   "metadata": {},
   "outputs": [
    {
     "data": {
      "application/vnd.jupyter.widget-view+json": {
       "model_id": "3bc4e68eb9fd449e9cc2b27c6d013e02",
       "version_major": 2,
       "version_minor": 0
      },
      "text/plain": [
       "Loading checkpoint shards:   0%|          | 0/2 [00:00<?, ?it/s]"
      ]
     },
     "metadata": {},
     "output_type": "display_data"
    }
   ],
   "source": [
    "critic_model_path=\"finetuned_models/checkpoint-700\"\n",
    "tokenizer = AutoTokenizer.from_pretrained(critic_model_path)\n",
    "\n",
    "bnb_config = BitsAndBytesConfig(\n",
    "    load_in_4bit=True,\n",
    "    bnb_4bit_quant_type=\"nf4\",\n",
    "    bnb_4bit_compute_dtype=torch.bfloat16,\n",
    "    bnb_4bit_use_double_quant=False,\n",
    ")\n",
    "model = AutoModelForCausalLM.from_pretrained(\n",
    "    critic_model_path,\n",
    "    quantization_config=bnb_config,\n",
    "    # device_map=args.device,\n",
    "    device_map=\"auto\",\n",
    "    local_files_only = True\n",
    ")\n"
   ]
  }
 ],
 "metadata": {
  "kernelspec": {
   "display_name": "Python 3 (ipykernel)",
   "language": "python",
   "name": "python3"
  },
  "language_info": {
   "codemirror_mode": {
    "name": "ipython",
    "version": 3
   },
   "file_extension": ".py",
   "mimetype": "text/x-python",
   "name": "python",
   "nbconvert_exporter": "python",
   "pygments_lexer": "ipython3",
   "version": "3.12.2"
  }
 },
 "nbformat": 4,
 "nbformat_minor": 5
}
